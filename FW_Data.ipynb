{
 "cells": [
  {
   "cell_type": "code",
   "execution_count": null,
   "metadata": {},
   "outputs": [],
   "source": [
    "import pandas as pd\n",
    "import plotly.io as pio\n",
    "import plotly.graph_objects as go\n",
    "pio.templates.default = \"plotly_white\"\n",
    "import plotly.express as px\n",
    "\n",
    "data = pd.read_csv(\"Apple-Fitness-Data.csv\")\n",
    "print(data.head())\n",
    "print(data.isnull().sum())\n",
    "\n",
    "\n",
    "# Step Count Over Time\n",
    "fig1 = px.line(data, x=\"Time\",\n",
    "y=\"Step Count\",\n",
    "title=\"Step Count Over Time\")\n",
    "fig1.show()\n"
   ]
  }
 ],
 "metadata": {
  "language_info": {
   "name": "python"
  }
 },
 "nbformat": 4,
 "nbformat_minor": 2
}
